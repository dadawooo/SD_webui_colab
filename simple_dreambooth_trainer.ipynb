{
  "cells": [
    {
      "cell_type": "markdown",
      "metadata": {
        "id": "view-in-github"
      },
      "source": [
        "[![Open In Colab](https://colab.research.google.com/assets/colab-badge.svg)](https://colab.research.google.com/github/camenduru/stable-diffusion-webui-colab/blob/training/simple_dreambooth_trainer.ipynb)"
      ]
    },
    {
      "cell_type": "code",
      "execution_count": null,
      "metadata": {
        "cellView": "form",
        "id": "SaAJk33ppFw1"
      },
      "outputs": [],
      "source": [
        "#@title Train DreamBooth\n",
        "from google.colab import drive\n",
        "drive.mount('/content/drive')\n",
        "\n",
        "!apt -y update -qq\n",
        "!wget http://launchpadlibrarian.net/367274644/libgoogle-perftools-dev_2.5-2.2ubuntu3_amd64.deb\n",
        "!wget https://launchpad.net/ubuntu/+source/google-perftools/2.5-2.2ubuntu3/+build/14795286/+files/google-perftools_2.5-2.2ubuntu3_all.deb\n",
        "!wget https://launchpad.net/ubuntu/+source/google-perftools/2.5-2.2ubuntu3/+build/14795286/+files/libtcmalloc-minimal4_2.5-2.2ubuntu3_amd64.deb\n",
        "!wget https://launchpad.net/ubuntu/+source/google-perftools/2.5-2.2ubuntu3/+build/14795286/+files/libgoogle-perftools4_2.5-2.2ubuntu3_amd64.deb\n",
        "!apt install -qq libunwind8-dev\n",
        "!dpkg -i *.deb\n",
        "%env LD_PRELOAD=libtcmalloc.so\n",
        "!rm *.deb\n",
        "\n",
        "!pip install torch==1.13.1+cu116 torchvision==0.14.1+cu116 torchaudio==0.13.1 --extra-index-url https://download.pytorch.org/whl/cu116 -U\n",
        "!apt -y install -qq aria2\n",
        "!pip install -q --pre xformers==0.0.17.dev476 -U\n",
        "!pip install -q --pre triton\n",
        "\n",
        "!pip install -q diffusers==0.13.1 -U\n",
        "!pip install -q transformers==4.26.1 -U\n",
        "!pip install -q accelerate==0.16.0 -U\n",
        "!pip install -q ftfy==6.1.1 -U\n",
        "!pip install -q bitsandbytes==0.37.0 -U\n",
        "!pip install -q safetensors==0.2.8 -U\n",
        "!pip install -q huggingface-hub==0.12.1 -U\n",
        "\n",
        "!git clone https://huggingface.co/JosephusCheung/ACertainty /content/model\n",
        "!mv /content/model/ACertainty.ckpt /content/model/model.ckpt\n",
        "\n",
        "!mkdir /content/trained\n",
        "!mkdir /content/trainer\n",
        "!mkdir /content/trainer/diffusers\n",
        "!mkdir /content/trainer/diffusers/dreambooth\n",
        "!mkdir /content/trainer/diffusers/dreambooth/class_data_dir\n",
        "\n",
        "!wget https://raw.githubusercontent.com/camenduru/trainer/main/diffusers/dreambooth/train_dreambooth.py -O /content/trainer/diffusers/dreambooth/train_dreambooth.py\n",
        "!wget https://raw.githubusercontent.com/camenduru/trainer/main/diffusers/dreambooth/convert_diffusers_to_original_stable_diffusion.py -O /content/trainer/diffusers/dreambooth/convert_diffusers_to_original_stable_diffusion.py\n",
        "\n",
        "\n",
        "root_path = \"/content/drive/MyDrive/AI/training\" #@param {type:\"string\"}\n",
        "instance_prompt = \"parkminyoung\" #@param {type:\"string\"}\n",
        "class_prompt = \"person\" #@param {type:\"string\"}\n",
        "images_path = f\"{root_path}/{instance_prompt}\"\n",
        "output_dir = f\"/content/{instance_prompt}\"\n",
        "max_train_steps = 650 #@param {type:\"integer\"}\n",
        "\n",
        "!python -u /content/trainer/diffusers/dreambooth/train_dreambooth.py \\\n",
        "                    --pretrained_model_name_or_path=\"/content/model\"  \\\n",
        "                    --instance_data_dir={images_path} \\\n",
        "                    --output_dir={output_dir} \\\n",
        "                    --learning_rate=5e-6 \\\n",
        "                    --max_train_steps={max_train_steps} \\\n",
        "                    --instance_prompt={instance_prompt} \\\n",
        "                    --resolution=512 \\\n",
        "                    --center_crop \\\n",
        "                    --train_batch_size=1 \\\n",
        "                    --gradient_accumulation_steps=1 \\\n",
        "                    --max_grad_norm=1.0 \\\n",
        "                    --mixed_precision=\"fp16\" \\\n",
        "                    --gradient_checkpointing \\\n",
        "                    --enable_xformers_memory_efficient_attention \\\n",
        "                    --use_8bit_adam \\\n",
        "                    --with_prior_preservation \\\n",
        "                    --class_data_dir=\"/content/trainer/diffusers/dreambooth/class_data_dir\" \\\n",
        "                    --prior_loss_weight=1.0 \\\n",
        "                    --sample_batch_size=2 \\\n",
        "                    --class_prompt={class_prompt} \\\n",
        "                    --seed=69 \\\n",
        "                    --num_class_images=12"
      ]
    },
    {
      "cell_type": "code",
      "execution_count": null,
      "metadata": {
        "cellView": "form",
        "id": "LaFc3kh4p3BF"
      },
      "outputs": [],
      "source": [
        "#@title Test Model\n",
        "from diffusers import StableDiffusionPipeline\n",
        "import gc, os, torch\n",
        "\n",
        "instance_prompt = \"parkminyoung\" #@param {type:\"string\"}\n",
        "class_prompt = \"person\" #@param {type:\"string\"}\n",
        "output_dir = f\"/content/{instance_prompt}\"\n",
        "\n",
        "load_model = True #@param {type:\"boolean\"}\n",
        "if load_model:\n",
        "  pipe = StableDiffusionPipeline.from_pretrained(output_dir, safety_checker=None, torch_dtype=torch.float16).to(\"cuda\")\n",
        "  pipe.enable_xformers_memory_efficient_attention()\n",
        "\n",
        "root_folder = '/content/drive/MyDrive/AI/trained' #@param {type: 'string'}\n",
        "image_folder = '001' #@param {type: 'string'}\n",
        "if os.path.exists(f\"{root_folder}\") == False:\n",
        "  os.mkdir(f\"{root_folder}\")\n",
        "if os.path.exists(f\"{root_folder}/{image_folder}\") == False:\n",
        "  os.mkdir(f\"{root_folder}/{image_folder}\")\n",
        "name = max([int(f[:f.index('.')]) for f in os.listdir(f\"{root_folder}/{image_folder}\")], default=0)\n",
        "\n",
        "prompt = \"drawing\" #@param {type: 'string'}\n",
        "negative_prompt = \"\" #@param {type: 'string'}\n",
        "num_inference_steps = 50 #@param {type: 'integer'}\n",
        "guidance_scale = 7.5 #@param {type: 'raw'}\n",
        "height = 512 #@param {type: 'integer'}\n",
        "width = 512 #@param {type: 'integer'}\n",
        "\n",
        "def generate(prompt, name):\n",
        "  gc.collect()\n",
        "  torch.cuda.empty_cache()\n",
        "  image = pipe(prompt, negative_prompt=negative_prompt, height=height, width=width, num_inference_steps=num_inference_steps, guidance_scale=guidance_scale).images[0]\n",
        "  image.save(f\"{root_folder}/{image_folder}/{name:04}.png\")\n",
        "  display(image)\n",
        "\n",
        "full = f\"{instance_prompt} {class_prompt} {prompt}\"\n",
        "name += 1\n",
        "generate(full, name)"
      ]
    },
    {
      "cell_type": "code",
      "execution_count": null,
      "metadata": {
        "cellView": "form",
        "id": "2vE7p_s7p3BG"
      },
      "outputs": [],
      "source": [
        "#@title Convert Diffusers to Original Stable Diffusion\n",
        "instance_prompt = \"parkminyoung\" #@param {type:\"string\"}\n",
        "output_dir = f\"/content/{instance_prompt}\"\n",
        "ckpt_file = f\"{output_dir}/{instance_prompt}.ckpt\"\n",
        "!python /content/trainer/diffusers/dreambooth/convert_diffusers_to_original_stable_diffusion.py --model_path /content/{instance_prompt} --checkpoint_path {ckpt_file} --half"
      ]
    },
    {
      "cell_type": "code",
      "execution_count": null,
      "metadata": {
        "cellView": "form",
        "id": "mS0H5kUfp3BG"
      },
      "outputs": [],
      "source": [
        "#@title Convert Diffusers to Original Stable Diffusion\n",
        "import gc, os, torch\n",
        "if 'pipe' in locals():\n",
        "    del pipe\n",
        "gc.collect()\n",
        "torch.cuda.empty_cache()\n",
        "instance_prompt = \"parkminyoung\" #@param {type:\"string\"}\n",
        "output_dir = f\"/content/{instance_prompt}\"\n",
        "ckpt_file = f\"{output_dir}/{instance_prompt}.ckpt\"\n",
        "!python /content/trainer/diffusers/dreambooth/convert_diffusers_to_original_stable_diffusion.py --model_path /content/{instance_prompt} --checkpoint_path {ckpt_file} --half"
      ]
    }
  ],
  "metadata": {
    "accelerator": "GPU",
    "colab": {
      "private_outputs": true,
      "provenance": []
    },
    "gpuClass": "standard",
    "kernelspec": {
      "display_name": "Python 3",
      "name": "python3"
    },
    "language_info": {
      "name": "python"
    }
  },
  "nbformat": 4,
  "nbformat_minor": 0
}
